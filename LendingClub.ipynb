{
  "nbformat": 4,
  "nbformat_minor": 0,
  "metadata": {
    "colab": {
      "name": "Techno-Lending Club.ipynb",
      "provenance": [],
      "collapsed_sections": [
        "3gtwBByXy15-"
      ]
    },
    "kernelspec": {
      "display_name": "Python 3",
      "language": "python",
      "name": "python3"
    },
    "language_info": {
      "codemirror_mode": {
        "name": "ipython",
        "version": 3
      },
      "file_extension": ".py",
      "mimetype": "text/x-python",
      "name": "python",
      "nbconvert_exporter": "python",
      "pygments_lexer": "ipython3",
      "version": "3.8.2rc2"
    }
  },
  "cells": [
    {
      "cell_type": "markdown",
      "metadata": {
        "id": "OYRR2zcFWcNn"
      },
      "source": [
        "# **Technocolab project**\n",
        "## Luv Gupta "
      ]
    },
    {
      "cell_type": "code",
      "metadata": {
        "colab": {
          "base_uri": "https://localhost:8080/"
        },
        "id": "oIbZwUNxnF7q",
        "outputId": "c1de904f-0c45-40a9-fabc-04fd3bc710cb"
      },
      "source": [
        "#Mounting Google Drive\n",
        "from google.colab import drive\n",
        "drive.mount('/content/drive')"
      ],
      "execution_count": null,
      "outputs": [
        {
          "output_type": "stream",
          "text": [
            "Drive already mounted at /content/drive; to attempt to forcibly remount, call drive.mount(\"/content/drive\", force_remount=True).\n"
          ],
          "name": "stdout"
        }
      ]
    },
    {
      "cell_type": "markdown",
      "metadata": {
        "id": "RfQ1-cR-dWD_"
      },
      "source": [
        "# Gathering, Accessing and Cleaning of Data "
      ]
    },
    {
      "cell_type": "code",
      "metadata": {
        "id": "1PMV4eEk9NAB"
      },
      "source": [
        "import pandas as pd\n",
        "import numpy as np\n",
        "import matplotlib.pyplot as plt\n",
        "%matplotlib inline   \n",
        "import seaborn as sns\n",
        "from sklearn.metrics import confusion_matrix, accuracy_score"
      ],
      "execution_count": null,
      "outputs": []
    },
    {
      "cell_type": "code",
      "metadata": {
        "id": "CwdgY6sEl4fA"
      },
      "source": [
        "df=pd.read_csv(\"/content/drive/MyDrive/techno/Lending_Club_Loan_approval_Optimization.csv\")"
      ],
      "execution_count": null,
      "outputs": []
    },
    {
      "cell_type": "code",
      "metadata": {
        "colab": {
          "base_uri": "https://localhost:8080/",
          "height": 111
        },
        "id": "W0nPNBocl4fA",
        "outputId": "06abde44-388e-4d54-c852-c548ec7a5345"
      },
      "source": [
        "df.head(2)"
      ],
      "execution_count": null,
      "outputs": [
        {
          "output_type": "execute_result",
          "data": {
            "text/html": [
              "<div>\n",
              "<style scoped>\n",
              "    .dataframe tbody tr th:only-of-type {\n",
              "        vertical-align: middle;\n",
              "    }\n",
              "\n",
              "    .dataframe tbody tr th {\n",
              "        vertical-align: top;\n",
              "    }\n",
              "\n",
              "    .dataframe thead th {\n",
              "        text-align: right;\n",
              "    }\n",
              "</style>\n",
              "<table border=\"1\" class=\"dataframe\">\n",
              "  <thead>\n",
              "    <tr style=\"text-align: right;\">\n",
              "      <th></th>\n",
              "      <th>Unnamed: 0</th>\n",
              "      <th>Amount Requested</th>\n",
              "      <th>Risk_Score</th>\n",
              "      <th>Debt-To-Income Ratio</th>\n",
              "      <th>Employment Length</th>\n",
              "      <th>Target</th>\n",
              "    </tr>\n",
              "  </thead>\n",
              "  <tbody>\n",
              "    <tr>\n",
              "      <th>0</th>\n",
              "      <td>0</td>\n",
              "      <td>3600.0</td>\n",
              "      <td>677.0</td>\n",
              "      <td>5.91</td>\n",
              "      <td>10</td>\n",
              "      <td>1</td>\n",
              "    </tr>\n",
              "    <tr>\n",
              "      <th>1</th>\n",
              "      <td>1</td>\n",
              "      <td>24700.0</td>\n",
              "      <td>717.0</td>\n",
              "      <td>16.06</td>\n",
              "      <td>10</td>\n",
              "      <td>1</td>\n",
              "    </tr>\n",
              "  </tbody>\n",
              "</table>\n",
              "</div>"
            ],
            "text/plain": [
              "   Unnamed: 0  Amount Requested  ...  Employment Length  Target\n",
              "0           0            3600.0  ...                 10       1\n",
              "1           1           24700.0  ...                 10       1\n",
              "\n",
              "[2 rows x 6 columns]"
            ]
          },
          "metadata": {
            "tags": []
          },
          "execution_count": 5
        }
      ]
    },
    {
      "cell_type": "code",
      "metadata": {
        "id": "htqZecmjl4fB"
      },
      "source": [
        "#Drop 1st column\n",
        "df=df.iloc[:,1:]"
      ],
      "execution_count": null,
      "outputs": []
    },
    {
      "cell_type": "code",
      "metadata": {
        "colab": {
          "base_uri": "https://localhost:8080/",
          "height": 111
        },
        "id": "HIkZuXUBSzu4",
        "outputId": "b1068942-fe13-4aa6-9bed-d425ddeef658"
      },
      "source": [
        "df.head(2)"
      ],
      "execution_count": null,
      "outputs": [
        {
          "output_type": "execute_result",
          "data": {
            "text/html": [
              "<div>\n",
              "<style scoped>\n",
              "    .dataframe tbody tr th:only-of-type {\n",
              "        vertical-align: middle;\n",
              "    }\n",
              "\n",
              "    .dataframe tbody tr th {\n",
              "        vertical-align: top;\n",
              "    }\n",
              "\n",
              "    .dataframe thead th {\n",
              "        text-align: right;\n",
              "    }\n",
              "</style>\n",
              "<table border=\"1\" class=\"dataframe\">\n",
              "  <thead>\n",
              "    <tr style=\"text-align: right;\">\n",
              "      <th></th>\n",
              "      <th>Amount Requested</th>\n",
              "      <th>Risk_Score</th>\n",
              "      <th>Debt-To-Income Ratio</th>\n",
              "      <th>Employment Length</th>\n",
              "      <th>Target</th>\n",
              "    </tr>\n",
              "  </thead>\n",
              "  <tbody>\n",
              "    <tr>\n",
              "      <th>0</th>\n",
              "      <td>3600.0</td>\n",
              "      <td>677.0</td>\n",
              "      <td>5.91</td>\n",
              "      <td>10</td>\n",
              "      <td>1</td>\n",
              "    </tr>\n",
              "    <tr>\n",
              "      <th>1</th>\n",
              "      <td>24700.0</td>\n",
              "      <td>717.0</td>\n",
              "      <td>16.06</td>\n",
              "      <td>10</td>\n",
              "      <td>1</td>\n",
              "    </tr>\n",
              "  </tbody>\n",
              "</table>\n",
              "</div>"
            ],
            "text/plain": [
              "   Amount Requested  Risk_Score  ...  Employment Length  Target\n",
              "0            3600.0       677.0  ...                 10       1\n",
              "1           24700.0       717.0  ...                 10       1\n",
              "\n",
              "[2 rows x 5 columns]"
            ]
          },
          "metadata": {
            "tags": []
          },
          "execution_count": 7
        }
      ]
    },
    {
      "cell_type": "code",
      "metadata": {
        "colab": {
          "base_uri": "https://localhost:8080/"
        },
        "id": "5MzNw9gDl4fB",
        "outputId": "ab25d613-2638-46f1-caa9-2f0a2284b647"
      },
      "source": [
        "df.shape"
      ],
      "execution_count": null,
      "outputs": [
        {
          "output_type": "execute_result",
          "data": {
            "text/plain": [
              "(2072806, 5)"
            ]
          },
          "metadata": {
            "tags": []
          },
          "execution_count": 8
        }
      ]
    },
    {
      "cell_type": "code",
      "metadata": {
        "colab": {
          "base_uri": "https://localhost:8080/"
        },
        "id": "t8M-hbFSl4fD",
        "outputId": "6c4bc782-bf8f-493f-ee17-255f0e1580cd"
      },
      "source": [
        "df.info()"
      ],
      "execution_count": null,
      "outputs": [
        {
          "output_type": "stream",
          "text": [
            "<class 'pandas.core.frame.DataFrame'>\n",
            "RangeIndex: 2072806 entries, 0 to 2072805\n",
            "Data columns (total 5 columns):\n",
            " #   Column                Dtype  \n",
            "---  ------                -----  \n",
            " 0   Amount Requested      float64\n",
            " 1   Risk_Score            float64\n",
            " 2   Debt-To-Income Ratio  float64\n",
            " 3   Employment Length     int64  \n",
            " 4   Target                int64  \n",
            "dtypes: float64(3), int64(2)\n",
            "memory usage: 79.1 MB\n"
          ],
          "name": "stdout"
        }
      ]
    },
    {
      "cell_type": "code",
      "metadata": {
        "colab": {
          "base_uri": "https://localhost:8080/",
          "height": 297
        },
        "id": "_Djc6rD9l4fC",
        "outputId": "13f71925-cbd6-4d21-aa72-f55919557304"
      },
      "source": [
        "df.describe()"
      ],
      "execution_count": null,
      "outputs": [
        {
          "output_type": "execute_result",
          "data": {
            "text/html": [
              "<div>\n",
              "<style scoped>\n",
              "    .dataframe tbody tr th:only-of-type {\n",
              "        vertical-align: middle;\n",
              "    }\n",
              "\n",
              "    .dataframe tbody tr th {\n",
              "        vertical-align: top;\n",
              "    }\n",
              "\n",
              "    .dataframe thead th {\n",
              "        text-align: right;\n",
              "    }\n",
              "</style>\n",
              "<table border=\"1\" class=\"dataframe\">\n",
              "  <thead>\n",
              "    <tr style=\"text-align: right;\">\n",
              "      <th></th>\n",
              "      <th>Amount Requested</th>\n",
              "      <th>Risk_Score</th>\n",
              "      <th>Debt-To-Income Ratio</th>\n",
              "      <th>Employment Length</th>\n",
              "      <th>Target</th>\n",
              "    </tr>\n",
              "  </thead>\n",
              "  <tbody>\n",
              "    <tr>\n",
              "      <th>count</th>\n",
              "      <td>2.072806e+06</td>\n",
              "      <td>2.072806e+06</td>\n",
              "      <td>2.072806e+06</td>\n",
              "      <td>2.072806e+06</td>\n",
              "      <td>2072806.0</td>\n",
              "    </tr>\n",
              "    <tr>\n",
              "      <th>mean</th>\n",
              "      <td>1.293403e+04</td>\n",
              "      <td>6.560779e+02</td>\n",
              "      <td>1.173645e+02</td>\n",
              "      <td>3.738213e+00</td>\n",
              "      <td>0.5</td>\n",
              "    </tr>\n",
              "    <tr>\n",
              "      <th>std</th>\n",
              "      <td>9.483082e+03</td>\n",
              "      <td>8.573350e+01</td>\n",
              "      <td>4.757285e+03</td>\n",
              "      <td>4.046339e+00</td>\n",
              "      <td>0.5</td>\n",
              "    </tr>\n",
              "    <tr>\n",
              "      <th>min</th>\n",
              "      <td>2.000000e+02</td>\n",
              "      <td>0.000000e+00</td>\n",
              "      <td>-1.000000e+00</td>\n",
              "      <td>0.000000e+00</td>\n",
              "      <td>0.0</td>\n",
              "    </tr>\n",
              "    <tr>\n",
              "      <th>25%</th>\n",
              "      <td>5.000000e+03</td>\n",
              "      <td>6.130000e+02</td>\n",
              "      <td>1.108000e+01</td>\n",
              "      <td>0.000000e+00</td>\n",
              "      <td>0.0</td>\n",
              "    </tr>\n",
              "    <tr>\n",
              "      <th>50%</th>\n",
              "      <td>1.000000e+04</td>\n",
              "      <td>6.720000e+02</td>\n",
              "      <td>1.859000e+01</td>\n",
              "      <td>2.000000e+00</td>\n",
              "      <td>0.5</td>\n",
              "    </tr>\n",
              "    <tr>\n",
              "      <th>75%</th>\n",
              "      <td>1.920000e+04</td>\n",
              "      <td>7.020000e+02</td>\n",
              "      <td>2.807000e+01</td>\n",
              "      <td>8.000000e+00</td>\n",
              "      <td>1.0</td>\n",
              "    </tr>\n",
              "    <tr>\n",
              "      <th>max</th>\n",
              "      <td>1.400000e+06</td>\n",
              "      <td>9.900000e+02</td>\n",
              "      <td>2.376000e+06</td>\n",
              "      <td>1.000000e+01</td>\n",
              "      <td>1.0</td>\n",
              "    </tr>\n",
              "  </tbody>\n",
              "</table>\n",
              "</div>"
            ],
            "text/plain": [
              "       Amount Requested    Risk_Score  ...  Employment Length     Target\n",
              "count      2.072806e+06  2.072806e+06  ...       2.072806e+06  2072806.0\n",
              "mean       1.293403e+04  6.560779e+02  ...       3.738213e+00        0.5\n",
              "std        9.483082e+03  8.573350e+01  ...       4.046339e+00        0.5\n",
              "min        2.000000e+02  0.000000e+00  ...       0.000000e+00        0.0\n",
              "25%        5.000000e+03  6.130000e+02  ...       0.000000e+00        0.0\n",
              "50%        1.000000e+04  6.720000e+02  ...       2.000000e+00        0.5\n",
              "75%        1.920000e+04  7.020000e+02  ...       8.000000e+00        1.0\n",
              "max        1.400000e+06  9.900000e+02  ...       1.000000e+01        1.0\n",
              "\n",
              "[8 rows x 5 columns]"
            ]
          },
          "metadata": {
            "tags": []
          },
          "execution_count": 10
        }
      ]
    },
    {
      "cell_type": "code",
      "metadata": {
        "id": "Z0HY-KLBWU_T"
      },
      "source": [
        "x=df.columns\n",
        "df.rename(columns={\"Amount Requested\":\"Amount_Requested\", \"Debt-To-Income Ratio\":\"Debt_To_Income_Ratio\", \"Employment Length\": \"Employment_Length\"}, inplace=True)"
      ],
      "execution_count": null,
      "outputs": []
    },
    {
      "cell_type": "code",
      "metadata": {
        "colab": {
          "base_uri": "https://localhost:8080/",
          "height": 111
        },
        "id": "VDBvtREnW6M_",
        "outputId": "b6cd8f52-0e9e-4010-c213-9929b9763ecb"
      },
      "source": [
        "df.head(2)"
      ],
      "execution_count": null,
      "outputs": [
        {
          "output_type": "execute_result",
          "data": {
            "text/html": [
              "<div>\n",
              "<style scoped>\n",
              "    .dataframe tbody tr th:only-of-type {\n",
              "        vertical-align: middle;\n",
              "    }\n",
              "\n",
              "    .dataframe tbody tr th {\n",
              "        vertical-align: top;\n",
              "    }\n",
              "\n",
              "    .dataframe thead th {\n",
              "        text-align: right;\n",
              "    }\n",
              "</style>\n",
              "<table border=\"1\" class=\"dataframe\">\n",
              "  <thead>\n",
              "    <tr style=\"text-align: right;\">\n",
              "      <th></th>\n",
              "      <th>Amount_Requested</th>\n",
              "      <th>Risk_Score</th>\n",
              "      <th>Debt_To_Income_Ratio</th>\n",
              "      <th>Employment_Length</th>\n",
              "      <th>Target</th>\n",
              "    </tr>\n",
              "  </thead>\n",
              "  <tbody>\n",
              "    <tr>\n",
              "      <th>0</th>\n",
              "      <td>3600.0</td>\n",
              "      <td>677.0</td>\n",
              "      <td>5.91</td>\n",
              "      <td>10</td>\n",
              "      <td>1</td>\n",
              "    </tr>\n",
              "    <tr>\n",
              "      <th>1</th>\n",
              "      <td>24700.0</td>\n",
              "      <td>717.0</td>\n",
              "      <td>16.06</td>\n",
              "      <td>10</td>\n",
              "      <td>1</td>\n",
              "    </tr>\n",
              "  </tbody>\n",
              "</table>\n",
              "</div>"
            ],
            "text/plain": [
              "   Amount_Requested  Risk_Score  ...  Employment_Length  Target\n",
              "0            3600.0       677.0  ...                 10       1\n",
              "1           24700.0       717.0  ...                 10       1\n",
              "\n",
              "[2 rows x 5 columns]"
            ]
          },
          "metadata": {
            "tags": []
          },
          "execution_count": 12
        }
      ]
    },
    {
      "cell_type": "code",
      "metadata": {
        "colab": {
          "base_uri": "https://localhost:8080/"
        },
        "id": "hb1hl7XKl4fC",
        "outputId": "83b8d9bc-e2f2-4a49-9535-eda5104b07a0"
      },
      "source": [
        "df.isnull().sum()\n",
        "#No null in any column"
      ],
      "execution_count": null,
      "outputs": [
        {
          "output_type": "execute_result",
          "data": {
            "text/plain": [
              "Amount_Requested        0\n",
              "Risk_Score              0\n",
              "Debt_To_Income_Ratio    0\n",
              "Employment_Length       0\n",
              "Target                  0\n",
              "dtype: int64"
            ]
          },
          "metadata": {
            "tags": []
          },
          "execution_count": 13
        }
      ]
    },
    {
      "cell_type": "code",
      "metadata": {
        "colab": {
          "base_uri": "https://localhost:8080/"
        },
        "id": "Swstr1p2l4fD",
        "scrolled": false,
        "outputId": "b1287154-f3b5-46d1-bfc1-d224bdc210c6"
      },
      "source": [
        "df.duplicated().sum()"
      ],
      "execution_count": null,
      "outputs": [
        {
          "output_type": "execute_result",
          "data": {
            "text/plain": [
              "119097"
            ]
          },
          "metadata": {
            "tags": []
          },
          "execution_count": 14
        }
      ]
    },
    {
      "cell_type": "code",
      "metadata": {
        "colab": {
          "base_uri": "https://localhost:8080/"
        },
        "id": "Uf11hz4y1RV2",
        "outputId": "26aeb9fd-6c78-4f18-e0a5-7a7706ee81e5"
      },
      "source": [
        "#Drop duplicated Data\n",
        "df.drop_duplicates(inplace=True)\n",
        "df.duplicated().sum()"
      ],
      "execution_count": null,
      "outputs": [
        {
          "output_type": "execute_result",
          "data": {
            "text/plain": [
              "0"
            ]
          },
          "metadata": {
            "tags": []
          },
          "execution_count": 15
        }
      ]
    },
    {
      "cell_type": "code",
      "metadata": {
        "colab": {
          "base_uri": "https://localhost:8080/",
          "height": 204
        },
        "id": "vPw2_cVS-nQR",
        "outputId": "aa328efe-2af4-4bb7-a196-3945f54f7fc1"
      },
      "source": [
        "df.corr()"
      ],
      "execution_count": null,
      "outputs": [
        {
          "output_type": "execute_result",
          "data": {
            "text/html": [
              "<div>\n",
              "<style scoped>\n",
              "    .dataframe tbody tr th:only-of-type {\n",
              "        vertical-align: middle;\n",
              "    }\n",
              "\n",
              "    .dataframe tbody tr th {\n",
              "        vertical-align: top;\n",
              "    }\n",
              "\n",
              "    .dataframe thead th {\n",
              "        text-align: right;\n",
              "    }\n",
              "</style>\n",
              "<table border=\"1\" class=\"dataframe\">\n",
              "  <thead>\n",
              "    <tr style=\"text-align: right;\">\n",
              "      <th></th>\n",
              "      <th>Amount_Requested</th>\n",
              "      <th>Risk_Score</th>\n",
              "      <th>Debt_To_Income_Ratio</th>\n",
              "      <th>Employment_Length</th>\n",
              "      <th>Target</th>\n",
              "    </tr>\n",
              "  </thead>\n",
              "  <tbody>\n",
              "    <tr>\n",
              "      <th>Amount_Requested</th>\n",
              "      <td>1.000000</td>\n",
              "      <td>0.236394</td>\n",
              "      <td>0.004164</td>\n",
              "      <td>0.131121</td>\n",
              "      <td>0.067286</td>\n",
              "    </tr>\n",
              "    <tr>\n",
              "      <th>Risk_Score</th>\n",
              "      <td>0.236394</td>\n",
              "      <td>1.000000</td>\n",
              "      <td>-0.007817</td>\n",
              "      <td>0.470663</td>\n",
              "      <td>0.565188</td>\n",
              "    </tr>\n",
              "    <tr>\n",
              "      <th>Debt_To_Income_Ratio</th>\n",
              "      <td>0.004164</td>\n",
              "      <td>-0.007817</td>\n",
              "      <td>1.000000</td>\n",
              "      <td>-0.018429</td>\n",
              "      <td>-0.020661</td>\n",
              "    </tr>\n",
              "    <tr>\n",
              "      <th>Employment_Length</th>\n",
              "      <td>0.131121</td>\n",
              "      <td>0.470663</td>\n",
              "      <td>-0.018429</td>\n",
              "      <td>1.000000</td>\n",
              "      <td>0.536448</td>\n",
              "    </tr>\n",
              "    <tr>\n",
              "      <th>Target</th>\n",
              "      <td>0.067286</td>\n",
              "      <td>0.565188</td>\n",
              "      <td>-0.020661</td>\n",
              "      <td>0.536448</td>\n",
              "      <td>1.000000</td>\n",
              "    </tr>\n",
              "  </tbody>\n",
              "</table>\n",
              "</div>"
            ],
            "text/plain": [
              "                      Amount_Requested  Risk_Score  ...  Employment_Length    Target\n",
              "Amount_Requested              1.000000    0.236394  ...           0.131121  0.067286\n",
              "Risk_Score                    0.236394    1.000000  ...           0.470663  0.565188\n",
              "Debt_To_Income_Ratio          0.004164   -0.007817  ...          -0.018429 -0.020661\n",
              "Employment_Length             0.131121    0.470663  ...           1.000000  0.536448\n",
              "Target                        0.067286    0.565188  ...           0.536448  1.000000\n",
              "\n",
              "[5 rows x 5 columns]"
            ]
          },
          "metadata": {
            "tags": []
          },
          "execution_count": 16
        }
      ]
    },
    {
      "cell_type": "markdown",
      "metadata": {
        "id": "PMUBFXvzyzck"
      },
      "source": [
        "# Exploratory Data Analysis:\n",
        "\n",
        "Co-relation Matrix"
      ]
    },
    {
      "cell_type": "code",
      "metadata": {
        "colab": {
          "base_uri": "https://localhost:8080/",
          "height": 361
        },
        "id": "H825fw85l4fD",
        "outputId": "5731d90f-6de9-4586-cac0-79bf555b738a"
      },
      "source": [
        "sns.heatmap(df.corr(), cmap=\"Reds\");\n",
        "plt.xticks(rotation=60);"
      ],
      "execution_count": null,
      "outputs": [
        {
          "output_type": "display_data",
          "data": {
            "image/png": "[encoded data removed]",
            "text/plain": [
              "<Figure size 432x288 with 2 Axes>"
            ]
          },
          "metadata": {
            "tags": [],
            "needs_background": "light"
          }
        }
      ]
    },
    {
      "cell_type": "code",
      "metadata": {
        "id": "bRcw5wTWl4fE"
      },
      "source": [
        "#sns.pairplot(data=df)\n",
        "#Takes huge time to run"
      ],
      "execution_count": null,
      "outputs": []
    },
    {
      "cell_type": "markdown",
      "metadata": {
        "id": "tuijGcsPeHJR"
      },
      "source": [
        "## Univariate Exploration"
      ]
    },
    {
      "cell_type": "markdown",
      "metadata": {
        "id": "sTF_Ao4UeXhC"
      },
      "source": [
        "### Amount Requested"
      ]
    },
    {
      "cell_type": "code",
      "metadata": {
        "colab": {
          "base_uri": "https://localhost:8080/"
        },
        "id": "3GfrJmrCUHew",
        "outputId": "aca06a3b-073c-4636-9c03-dafd4dc0ac50"
      },
      "source": [
        "df.query(\"Amount_Requested < 45000\").size / df.size"
      ],
      "execution_count": null,
      "outputs": [
        {
          "output_type": "execute_result",
          "data": {
            "text/plain": [
              "0.9998541236182051"
            ]
          },
          "metadata": {
            "tags": []
          },
          "execution_count": 15
        }
      ]
    },
    {
      "cell_type": "markdown",
      "metadata": {
        "id": "qQ8L6TRmcDuh"
      },
      "source": [
        "99 % of data have Amount_Requested less than 45000.\n",
        "We are going to observe this 99% of data through histogram."
      ]
    },
    {
      "cell_type": "code",
      "metadata": {
        "colab": {
          "base_uri": "https://localhost:8080/",
          "height": 299
        },
        "id": "n4acN3Mul4fE",
        "outputId": "d1a13f74-c399-4b04-a735-6baf391b7a03"
      },
      "source": [
        "bins=np.arange(df['Amount_Requested'].min(), df['Amount_Requested'].max()+2000, 2000)\n",
        "plt.hist(data=df, x=\"Amount_Requested\", bins=bins);\n",
        "plt.xlim(0, 44000)\n",
        "plt.xticks(np.arange(0, 43000, 6000));\n",
        "plt.ylabel(\"Count\", size=12)\n",
        "plt.xlabel(\"Amount Requested\", size=12)\n",
        "plt.title(\"Histogram of Amount Requested\", size=14);"
      ],
      "execution_count": null,
      "outputs": [
        {
          "output_type": "display_data",
          "data": {
            "image/png": "[encoded data removed]",
            "text/plain": [
              "<Figure size 432x288 with 1 Axes>"
            ]
          },
          "metadata": {
            "tags": []
          }
        }
      ]
    },
    {
      "cell_type": "markdown",
      "metadata": {
        "id": "ZTx12yO9eQHN"
      },
      "source": [
        "### Risk Score"
      ]
    },
    {
      "cell_type": "code",
      "metadata": {
        "colab": {
          "base_uri": "https://localhost:8080/",
          "height": 298
        },
        "id": "rjew2is2l4fE",
        "outputId": "b4deacbc-443e-4aea-b9b5-e23d61bef79a"
      },
      "source": [
        "bins=np.arange(df['Risk_Score'].min(), df['Risk_Score'].max()+20, 20)\n",
        "plt.hist(data=df, x=\"Risk_Score\", bins=bins, color=sns.color_palette()[2]);\n",
        "plt.xlim(440,880)\n",
        "plt.xticks(np.arange(440, 880, 40));\n",
        "plt.title(\"Risk Score Distribution\", size=13)\n",
        "plt.ylabel(\"Count\", size=12)\n",
        "plt.xlabel(\"Risk Score\", size=12);"
      ],
      "execution_count": null,
      "outputs": [
        {
          "output_type": "display_data",
          "data": {
            "image/png": "[encoded data removed]",
            "text/plain": [
              "<Figure size 432x288 with 1 Axes>"
            ]
          },
          "metadata": {
            "tags": [],
            "needs_background": "light"
          }
        }
      ]
    },
    {
      "cell_type": "markdown",
      "metadata": {
        "id": "mEA3455_esTm"
      },
      "source": [
        "### Employment Length\n"
      ]
    },
    {
      "cell_type": "code",
      "metadata": {
        "colab": {
          "base_uri": "https://localhost:8080/",
          "height": 299
        },
        "id": "_bwoCSwzdwSM",
        "outputId": "7c0c18c7-6c4a-49b8-e39f-9f8034cad2af"
      },
      "source": [
        "sns.countplot(data=df, x=\"Employment_Length\", color=sns.color_palette()[1]);\n",
        "plt.ylabel(\"Count\", size=12)\n",
        "plt.xlabel(\"Employment_Length\", size=12)\n",
        "plt.title(\"Employment Length Distribution\", size=14);"
      ],
      "execution_count": null,
      "outputs": [
        {
          "output_type": "display_data",
          "data": {
            "image/png": "[encoded data removed]",
            "text/plain": [
              "<Figure size 432x288 with 1 Axes>"
            ]
          },
          "metadata": {
            "tags": [],
            "needs_background": "light"
          }
        }
      ]
    },
    {
      "cell_type": "markdown",
      "metadata": {
        "id": "hhVmuMjSexn4"
      },
      "source": [
        "### Debt To Income Ratio"
      ]
    },
    {
      "cell_type": "code",
      "metadata": {
        "colab": {
          "base_uri": "https://localhost:8080/"
        },
        "id": "_O0yEvN-c9Ef",
        "outputId": "faf500af-eebb-48f8-fa71-1deed48f0ef1"
      },
      "source": [
        "df.query(\"Debt_To_Income_Ratio < 140\").size / df.size"
      ],
      "execution_count": null,
      "outputs": [
        {
          "output_type": "execute_result",
          "data": {
            "text/plain": [
              "0.9832339411857139"
            ]
          },
          "metadata": {
            "tags": []
          },
          "execution_count": 19
        }
      ]
    },
    {
      "cell_type": "markdown",
      "metadata": {
        "id": "e9Q5Otc0hIw9"
      },
      "source": [
        "98 % of data have Debt_To_Income_Ratio less than 140.\n",
        "We are going to observe this 98% of data through histogram."
      ]
    },
    {
      "cell_type": "code",
      "metadata": {
        "id": "hhrY6Wdjl4fF"
      },
      "source": [
        "bins=np.arange(df['Debt_To_Income_Ratio'].min(), df['Debt_To_Income_Ratio'].max()+5, 5)\n",
        "plt.hist(data=df, x=\"Debt_To_Income_Ratio\", color=sns.color_palette()[3], bins=bins);\n",
        "plt.xlim(0,140)\n",
        "plt.ylabel(\"Count\", size=12)\n",
        "plt.xlabel(\"Debt_To_Income_Ratio\", size=12)\n",
        "plt.title(\"Debt To Income Ratio Distribution\", size=14);"
      ],
      "execution_count": null,
      "outputs": []
    },
    {
      "cell_type": "markdown",
      "metadata": {
        "id": "izhN1ijSe4um"
      },
      "source": [
        "### Target"
      ]
    },
    {
      "cell_type": "code",
      "metadata": {
        "colab": {
          "base_uri": "https://localhost:8080/",
          "height": 299
        },
        "id": "4_fL4Zcpj-zV",
        "outputId": "1e7e891a-aef4-47b2-83ad-4290c559bb71"
      },
      "source": [
        "sns.countplot(data=df, x=\"Target\", color=sns.color_palette()[7]);\n",
        "plt.ylabel(\"Count\", size=12)\n",
        "plt.xlabel(\"Target\", size=12)\n",
        "plt.title(\"Target Distribution\", size=14);"
      ],
      "execution_count": null,
      "outputs": [
        {
          "output_type": "display_data",
          "data": {
            "image/png": "[encoded data removed]",
            "text/plain": [
              "<Figure size 432x288 with 1 Axes>"
            ]
          },
          "metadata": {
            "tags": []
          }
        }
      ]
    },
    {
      "cell_type": "markdown",
      "metadata": {
        "id": "eXhy3qvGlCOm"
      },
      "source": [
        "## Bivariate Exploration\n",
        "**Here plots of Target vs other features will be plotted.**"
      ]
    },
    {
      "cell_type": "markdown",
      "metadata": {
        "id": "Q0m2eHHZfAMf"
      },
      "source": [
        "### Target vs Employment Length"
      ]
    },
    {
      "cell_type": "code",
      "metadata": {
        "colab": {
          "base_uri": "https://localhost:8080/",
          "height": 354
        },
        "id": "nTWMOe_-kQ3z",
        "outputId": "d9571a4a-4db5-4fc6-b026-1a5f4744d895"
      },
      "source": [
        "plt.figure(figsize=[8,5])\n",
        "sns.countplot(data=df, x=\"Employment_Length\", palette=\"Accent\", hue=\"Target\");\n",
        "plt.ylabel(\"Count\", size=12)\n",
        "plt.xlabel(\"Employment_Length\", size=12)\n",
        "plt.title(\"Target vs Employment Length\", size=14);"
      ],
      "execution_count": null,
      "outputs": [
        {
          "output_type": "display_data",
          "data": {
            "image/png": "[encoded data removed]",
            "text/plain": [
              "<Figure size 576x360 with 1 Axes>"
            ]
          },
          "metadata": {
            "tags": []
          }
        }
      ]
    },
    {
      "cell_type": "markdown",
      "metadata": {
        "id": "wtAHJ1-mfGlg"
      },
      "source": [
        "### Target vs Risk Score"
      ]
    },
    {
      "cell_type": "code",
      "metadata": {
        "colab": {
          "base_uri": "https://localhost:8080/",
          "height": 332
        },
        "id": "QiJltWrPkRUJ",
        "outputId": "e0702569-bd92-4b7c-d625-4c692706254c"
      },
      "source": [
        "bins=np.arange(440, 880+20, 20)\n",
        "g=sns.FacetGrid(data=df, col=\"Target\", size=4, aspect=1.5)\n",
        "plt.xlim(440,880)\n",
        "g.map(plt.hist, \"Risk_Score\", bins=bins, color=sns.color_palette()[5]);"
      ],
      "execution_count": null,
      "outputs": [
        {
          "output_type": "stream",
          "text": [
            "/usr/local/lib/python3.7/dist-packages/seaborn/axisgrid.py:316: UserWarning: The `size` parameter has been renamed to `height`; please update your code.\n",
            "  warnings.warn(msg, UserWarning)\n"
          ],
          "name": "stderr"
        },
        {
          "output_type": "display_data",
          "data": {
            "image/png": "[encoded data removed]",
            "text/plain": [
              "<Figure size 864x288 with 2 Axes>"
            ]
          },
          "metadata": {
            "tags": []
          }
        }
      ]
    },
    {
      "cell_type": "markdown",
      "metadata": {
        "id": "IuRpRxzVfVSh"
      },
      "source": [
        "### Target vs Amount Requested"
      ]
    },
    {
      "cell_type": "code",
      "metadata": {
        "id": "roczWEhBkROB",
        "colab": {
          "base_uri": "https://localhost:8080/",
          "height": 299
        },
        "outputId": "a0547db4-592c-4bd8-bd49-6d88d7d8ccbc"
      },
      "source": [
        "plt.figure(figsize=[8,4])\n",
        "sns.barplot(data=df, x=\"Target\", y=\"Amount_Requested\", color=sns.color_palette()[4]);\n",
        "plt.ylabel(\"mean (Amount Requested)\", size=12);   \n",
        "plt.xlabel(\"Target\", size=12)\n",
        "plt.title(\"Target vs mean(Amount Requested)\", size=14);"
      ],
      "execution_count": null,
      "outputs": [
        {
          "output_type": "display_data",
          "data": {
            "image/png": "[encoded data removed]",
            "text/plain": [
              "<Figure size 576x288 with 1 Axes>"
            ]
          },
          "metadata": {
            "tags": [],
            "needs_background": "light"
          }
        }
      ]
    },
    {
      "cell_type": "markdown",
      "metadata": {
        "id": "2CmlKczYfatS"
      },
      "source": [
        "### Target vs Debt To Income Ratio"
      ]
    },
    {
      "cell_type": "code",
      "metadata": {
        "id": "qQN25T8UkRYo",
        "colab": {
          "base_uri": "https://localhost:8080/",
          "height": 348
        },
        "outputId": "9cfb8ae6-4827-4805-e437-5f582c9501be"
      },
      "source": [
        "bins=np.arange(0, 140+5, 5)\n",
        "plt.figure(figsize=[8,5])\n",
        "g=sns.FacetGrid(data=df, col=\"Target\", size=4, aspect=1.3);\n",
        "plt.xlim(0,140);\n",
        "g.map(plt.hist, \"Debt_To_Income_Ratio\", bins=bins);"
      ],
      "execution_count": null,
      "outputs": [
        {
          "output_type": "stream",
          "text": [
            "/usr/local/lib/python3.7/dist-packages/seaborn/axisgrid.py:316: UserWarning: The `size` parameter has been renamed to `height`; please update your code.\n",
            "  warnings.warn(msg, UserWarning)\n"
          ],
          "name": "stderr"
        },
        {
          "output_type": "display_data",
          "data": {
            "text/plain": [
              "<Figure size 576x360 with 0 Axes>"
            ]
          },
          "metadata": {
            "tags": []
          }
        },
        {
          "output_type": "display_data",
          "data": {
            "image/png": "[encoded data removed]",
            "text/plain": [
              "<Figure size 748.8x288 with 2 Axes>"
            ]
          },
          "metadata": {
            "tags": [],
            "needs_background": "light"
          }
        }
      ]
    },
    {
      "cell_type": "markdown",
      "metadata": {
        "id": "GW7jkPVjfj8v"
      },
      "source": [
        "# Splitting our target from rest of features"
      ]
    },
    {
      "cell_type": "code",
      "metadata": {
        "id": "CV_W8eKsUOLc"
      },
      "source": [
        "X=df.iloc[:,:-1].values\n",
        "y=df.iloc[:,-1].values"
      ],
      "execution_count": null,
      "outputs": []
    },
    {
      "cell_type": "markdown",
      "metadata": {
        "id": "BCnkjxWRmAuY"
      },
      "source": [
        "# Getting test and train datasets"
      ]
    },
    {
      "cell_type": "code",
      "metadata": {
        "id": "_VUIHoHyoulU"
      },
      "source": [
        "from sklearn.model_selection import train_test_split\n",
        "X_train, X_test, y_train, y_test = train_test_split(X, y, test_size = 0.25, random_state = 0)"
      ],
      "execution_count": null,
      "outputs": []
    },
    {
      "cell_type": "markdown",
      "metadata": {
        "id": "cCzDNWcYmBP9"
      },
      "source": [
        "# Applying Feature Scaling"
      ]
    },
    {
      "cell_type": "code",
      "metadata": {
        "id": "WQxJNHUpl4fF"
      },
      "source": [
        "from sklearn.preprocessing import StandardScaler\n",
        "sc = StandardScaler()\n",
        "X_train = sc.fit_transform(X_train)\n",
        "X_test = sc.transform(X_test)"
      ],
      "execution_count": null,
      "outputs": []
    },
    {
      "cell_type": "markdown",
      "metadata": {
        "id": "3gtwBByXy15-"
      },
      "source": [
        "# Building Models"
      ]
    },
    {
      "cell_type": "markdown",
      "metadata": {
        "id": "QM-oamTrv-hg"
      },
      "source": [
        "## **Logistic Regression**"
      ]
    },
    {
      "cell_type": "code",
      "metadata": {
        "colab": {
          "base_uri": "https://localhost:8080/"
        },
        "id": "tZZnok-zvijk",
        "outputId": "690f9408-82d0-459c-f0cc-6fe850f6b11f"
      },
      "source": [
        "from sklearn.linear_model import LogisticRegression\n",
        "classifier = LogisticRegression(random_state = 0)\n",
        "classifier.fit(X_train, y_train)"
      ],
      "execution_count": null,
      "outputs": [
        {
          "output_type": "execute_result",
          "data": {
            "text/plain": [
              "LogisticRegression(C=1.0, class_weight=None, dual=False, fit_intercept=True,\n",
              "                   intercept_scaling=1, l1_ratio=None, max_iter=100,\n",
              "                   multi_class='auto', n_jobs=None, penalty='l2',\n",
              "                   random_state=0, solver='lbfgs', tol=0.0001, verbose=0,\n",
              "                   warm_start=False)"
            ]
          },
          "metadata": {
            "tags": []
          },
          "execution_count": 37
        }
      ]
    },
    {
      "cell_type": "code",
      "metadata": {
        "colab": {
          "base_uri": "https://localhost:8080/"
        },
        "id": "LoyraXjSviq4",
        "outputId": "68742823-578c-4d05-801c-54b4111bb32d"
      },
      "source": [
        "y_pred = classifier.predict(X_test)\n",
        "cm = confusion_matrix(y_test, y_pred)\n",
        "print(\"Confusion Matrix : \")\n",
        "print(cm)\n",
        "print()\n",
        "print(\" Accuracy Score: {}%\".format(round(accuracy_score(y_test,y_pred)*100,2)))"
      ],
      "execution_count": null,
      "outputs": [
        {
          "output_type": "stream",
          "text": [
            "Confusion Matrix : \n",
            "[[184120  54872]\n",
            " [ 20172 229264]]\n",
            "\n",
            " Accuracy Score: 84.64%\n"
          ],
          "name": "stdout"
        }
      ]
    },
    {
      "cell_type": "markdown",
      "metadata": {
        "id": "xzPhmWxuNDjq"
      },
      "source": [
        "K- Fold Cross Validation"
      ]
    },
    {
      "cell_type": "code",
      "metadata": {
        "colab": {
          "base_uri": "https://localhost:8080/"
        },
        "id": "zfg8s5AKxufy",
        "outputId": "d5af957e-e6be-4b52-cd59-708404afc7e4"
      },
      "source": [
        "from sklearn.model_selection import cross_val_score\n",
        "accuracies = cross_val_score(estimator = classifier, X = X_train, y = y_train, cv = 10)\n",
        "print(\"Accuracy: {:.2f} %\".format(accuracies.mean()*100))\n",
        "print(\"Standard Deviation: {:.2f} %\".format(accuracies.std()*100))"
      ],
      "execution_count": null,
      "outputs": [
        {
          "output_type": "stream",
          "text": [
            "Accuracy: 84.69 %\n",
            "Standard Deviation: 0.12 %\n"
          ],
          "name": "stdout"
        }
      ]
    },
    {
      "cell_type": "markdown",
      "metadata": {
        "id": "bb4sHAI9wChg"
      },
      "source": [
        "## **K- Nearest Neighbors (KNN)**"
      ]
    },
    {
      "cell_type": "code",
      "metadata": {
        "colab": {
          "base_uri": "https://localhost:8080/"
        },
        "id": "006FABuMvixB",
        "outputId": "6192f7fa-4037-47b9-ee45-c82152669a53"
      },
      "source": [
        "from sklearn.neighbors import KNeighborsClassifier\n",
        "classifier = KNeighborsClassifier(n_neighbors = 5, metric = 'minkowski', p = 2)\n",
        "classifier.fit(X_train, y_train)"
      ],
      "execution_count": null,
      "outputs": [
        {
          "output_type": "execute_result",
          "data": {
            "text/plain": [
              "KNeighborsClassifier(algorithm='auto', leaf_size=30, metric='minkowski',\n",
              "                     metric_params=None, n_jobs=None, n_neighbors=5, p=2,\n",
              "                     weights='uniform')"
            ]
          },
          "metadata": {
            "tags": []
          },
          "execution_count": 26
        }
      ]
    },
    {
      "cell_type": "code",
      "metadata": {
        "colab": {
          "base_uri": "https://localhost:8080/"
        },
        "id": "ELg7Y8Rrviz3",
        "outputId": "868362cb-1485-486c-ace3-72d667708950"
      },
      "source": [
        "y_pred = classifier.predict(X_test)\n",
        "cm = confusion_matrix(y_test, y_pred)\n",
        "print(\"Confusion MAtrix : \")\n",
        "print(cm)\n",
        "print()\n",
        "print(\" Accuracy Score: {}%\".format(round(accuracy_score(y_test,y_pred)*100,2)))"
      ],
      "execution_count": null,
      "outputs": [
        {
          "output_type": "stream",
          "text": [
            "Confusion MAtrix : \n",
            "[[184747  54245]\n",
            " [ 14327 235109]]\n",
            "\n",
            " Accuracy Score: 85.96%\n"
          ],
          "name": "stdout"
        }
      ]
    },
    {
      "cell_type": "markdown",
      "metadata": {
        "id": "gFrebOASNN9R"
      },
      "source": [
        "K- Fold Cross Validation"
      ]
    },
    {
      "cell_type": "code",
      "metadata": {
        "colab": {
          "base_uri": "https://localhost:8080/"
        },
        "id": "BoP-XxSAPAGI",
        "outputId": "7f80536e-d1f3-451e-fa57-58e694a4ec94"
      },
      "source": [
        "from sklearn.model_selection import cross_val_score\n",
        "accuracies = cross_val_score(estimator = classifier, X = X_train, y = y_train, cv = 10)\n",
        "print(\"Accuracy: {:.2f} %\".format(accuracies.mean()*100))\n",
        "print(\"Standard Deviation: {:.2f} %\".format(accuracies.std()*100))"
      ],
      "execution_count": null,
      "outputs": [
        {
          "output_type": "stream",
          "text": [
            "Accuracy: 84.71 %\n",
            "Standard Deviation: 0.10 %\n"
          ],
          "name": "stdout"
        }
      ]
    },
    {
      "cell_type": "markdown",
      "metadata": {
        "id": "oCqHqJBwPd2v"
      },
      "source": [
        "Applying Grid Search to find the best model and the best parameters"
      ]
    },
    {
      "cell_type": "code",
      "metadata": {
        "colab": {
          "base_uri": "https://localhost:8080/"
        },
        "id": "SHXcyLqQPLoL",
        "outputId": "1dff8d3c-1f2a-45df-8a79-2fb079f3d297"
      },
      "source": [
        "from sklearn.model_selection import GridSearchCV\n",
        "parameters = [{'n_neighbors': [4,5,6,7,8,9,10], 'weights':['uniform', 'distance']}]\n",
        "grid_search = GridSearchCV(estimator = classifier,\n",
        "                           param_grid = parameters,\n",
        "                           scoring = 'accuracy',\n",
        "                           cv = 10,\n",
        "                           n_jobs = -1)\n",
        "grid_search.fit(X_train, y_train)\n",
        "best_accuracy = grid_search.best_score_\n",
        "best_parameters = grid_search.best_params_\n",
        "print(\"Best Accuracy: {:.2f} %\".format( best_accuracy*100))\n",
        "print(\"Best Parameters:\", best_parameters)"
      ],
      "execution_count": null,
      "outputs": [
        {
          "output_type": "stream",
          "text": [
            "Best Accuracy: 86.90 %\n",
            "Best Parameters: {'n_neighbors': 9, 'weights': 'uniform'}\n"
          ],
          "name": "stdout"
        }
      ]
    },
    {
      "cell_type": "markdown",
      "metadata": {
        "id": "mmEfQhJ2wQVt"
      },
      "source": [
        "## **SVM && Kernel SVM**"
      ]
    },
    {
      "cell_type": "code",
      "metadata": {
        "id": "kU_d3_NIwfMc"
      },
      "source": [
        "#Taking so much time in Execution\n",
        "#from sklearn.svm import SVC\n",
        "#classifier = SVC(kernel = 'rbf', random_state = 0)\n",
        "#classifier.fit(X_train, y_train)"
      ],
      "execution_count": null,
      "outputs": []
    },
    {
      "cell_type": "markdown",
      "metadata": {
        "id": "mzf0Er6aw3kE"
      },
      "source": [
        "## **Naive Bayes**"
      ]
    },
    {
      "cell_type": "code",
      "metadata": {
        "colab": {
          "base_uri": "https://localhost:8080/"
        },
        "id": "N4Mn0QdOvi3V",
        "outputId": "7fb70a7d-35eb-40fc-dd57-ec5d986deadf"
      },
      "source": [
        "from sklearn.naive_bayes import GaussianNB\n",
        "classifier = GaussianNB()\n",
        "classifier.fit(X_train, y_train)"
      ],
      "execution_count": null,
      "outputs": [
        {
          "output_type": "execute_result",
          "data": {
            "text/plain": [
              "GaussianNB(priors=None, var_smoothing=1e-09)"
            ]
          },
          "metadata": {
            "tags": []
          },
          "execution_count": 28
        }
      ]
    },
    {
      "cell_type": "code",
      "metadata": {
        "colab": {
          "base_uri": "https://localhost:8080/"
        },
        "id": "gvvKQVzGxD08",
        "outputId": "05335a1b-42de-4ddd-e12d-1b1c3d0ce487"
      },
      "source": [
        "y_pred = classifier.predict(X_test)\n",
        "cm = confusion_matrix(y_test, y_pred)\n",
        "print(\"Confusion Matrix : \")\n",
        "print(cm)\n",
        "print()\n",
        "print(\" Accuracy Score: {}%\".format(round(accuracy_score(y_test,y_pred)*100,2)))"
      ],
      "execution_count": null,
      "outputs": [
        {
          "output_type": "stream",
          "text": [
            "Confusion MAtrix : \n",
            "[[125975 113017]\n",
            " [     4 249432]]\n",
            "\n",
            " Accuracy Score: 76.86%\n"
          ],
          "name": "stdout"
        }
      ]
    },
    {
      "cell_type": "markdown",
      "metadata": {
        "id": "dc2dZbLXxLBm"
      },
      "source": [
        "## **Decision Tree Classification**"
      ]
    },
    {
      "cell_type": "code",
      "metadata": {
        "colab": {
          "base_uri": "https://localhost:8080/"
        },
        "id": "1bfDx14MxEHv",
        "outputId": "2d8b5a20-0371-4fcd-c9e7-316949b5107e"
      },
      "source": [
        "from sklearn.tree import DecisionTreeClassifier\n",
        "classifier = DecisionTreeClassifier(criterion = 'entropy', random_state = 0)\n",
        "classifier.fit(X_train, y_train)"
      ],
      "execution_count": null,
      "outputs": [
        {
          "output_type": "execute_result",
          "data": {
            "text/plain": [
              "DecisionTreeClassifier(ccp_alpha=0.0, class_weight=None, criterion='entropy',\n",
              "                       max_depth=None, max_features=None, max_leaf_nodes=None,\n",
              "                       min_impurity_decrease=0.0, min_impurity_split=None,\n",
              "                       min_samples_leaf=1, min_samples_split=2,\n",
              "                       min_weight_fraction_leaf=0.0, presort='deprecated',\n",
              "                       random_state=0, splitter='best')"
            ]
          },
          "metadata": {
            "tags": []
          },
          "execution_count": 30
        }
      ]
    },
    {
      "cell_type": "code",
      "metadata": {
        "colab": {
          "base_uri": "https://localhost:8080/"
        },
        "id": "NKGFKgNdxEmk",
        "outputId": "065ca49e-81aa-45bf-bae9-8629ac06d32f"
      },
      "source": [
        "y_pred = classifier.predict(X_test)\n",
        "cm = confusion_matrix(y_test, y_pred)\n",
        "print(\"Confusion Matrix : \")\n",
        "print(cm)\n",
        "print()\n",
        "print(\" Accuracy Score: {}%\".format(round(accuracy_score(y_test,y_pred)*100,2)))"
      ],
      "execution_count": null,
      "outputs": [
        {
          "output_type": "stream",
          "text": [
            "Confusion MAtrix : \n",
            "[[194239  44753]\n",
            " [ 49535 199901]]\n",
            "\n",
            " Accuracy Score: 80.7%\n"
          ],
          "name": "stdout"
        }
      ]
    },
    {
      "cell_type": "markdown",
      "metadata": {
        "id": "hbcp305_xgsn"
      },
      "source": [
        "## **Random Forest Classification**"
      ]
    },
    {
      "cell_type": "code",
      "metadata": {
        "colab": {
          "base_uri": "https://localhost:8080/"
        },
        "id": "KDr83zp7xEwf",
        "outputId": "921b4369-5182-4da5-946f-e9f81674105e"
      },
      "source": [
        "from sklearn.ensemble import RandomForestClassifier\n",
        "classifier = RandomForestClassifier(n_estimators = 100, criterion = 'entropy', random_state = 0)\n",
        "classifier.fit(X_train, y_train)"
      ],
      "execution_count": null,
      "outputs": [
        {
          "output_type": "execute_result",
          "data": {
            "text/plain": [
              "RandomForestClassifier(bootstrap=True, ccp_alpha=0.0, class_weight=None,\n",
              "                       criterion='entropy', max_depth=None, max_features='auto',\n",
              "                       max_leaf_nodes=None, max_samples=None,\n",
              "                       min_impurity_decrease=0.0, min_impurity_split=None,\n",
              "                       min_samples_leaf=1, min_samples_split=2,\n",
              "                       min_weight_fraction_leaf=0.0, n_estimators=100,\n",
              "                       n_jobs=None, oob_score=False, random_state=0, verbose=0,\n",
              "                       warm_start=False)"
            ]
          },
          "metadata": {
            "tags": []
          },
          "execution_count": 32
        }
      ]
    },
    {
      "cell_type": "code",
      "metadata": {
        "colab": {
          "base_uri": "https://localhost:8080/"
        },
        "id": "k0fzs_GqxE5m",
        "outputId": "d2fb2e59-aac2-4b0b-b59e-506c6109ec9b"
      },
      "source": [
        "y_pred = classifier.predict(X_test)\n",
        "cm = confusion_matrix(y_test, y_pred)\n",
        "print(\"Confusion Matrix : \")\n",
        "print(cm)\n",
        "print()\n",
        "print(\" Accuracy Score: {:.2f}%\".format(accuracy_score(y_test,y_pred)*100))"
      ],
      "execution_count": null,
      "outputs": [
        {
          "output_type": "stream",
          "text": [
            "Confusion MAtrix : \n",
            "[[187806  51186]\n",
            " [ 23302 226134]]\n",
            "\n",
            " Accuracy Score: 84.75%\n"
          ],
          "name": "stdout"
        }
      ]
    },
    {
      "cell_type": "markdown",
      "metadata": {
        "id": "pnUdkscnG3Fb"
      },
      "source": [
        "K- Fold Cross Validation"
      ]
    },
    {
      "cell_type": "code",
      "metadata": {
        "colab": {
          "base_uri": "https://localhost:8080/"
        },
        "id": "JMTsmlT-pORR",
        "outputId": "9ca43014-8a2d-4b86-d766-05da568bfe05"
      },
      "source": [
        "from sklearn.model_selection import cross_val_score\n",
        "accuracies = cross_val_score(estimator = classifier, X = X_train, y = y_train, cv = 10, n_jobs=-1)\n",
        "print(\"Accuracy: {:.2f} %\".format(accuracies.mean()*100))\n",
        "print(\"Standard Deviation: {:.2f} %\".format(accuracies.std()*100))"
      ],
      "execution_count": null,
      "outputs": [
        {
          "output_type": "stream",
          "text": [
            "/usr/local/lib/python3.7/dist-packages/joblib/externals/loky/process_executor.py:691: UserWarning: A worker stopped while some jobs were given to the executor. This can be caused by a too short worker timeout or by a memory leak.\n",
            "  \"timeout or by a memory leak.\", UserWarning\n"
          ],
          "name": "stderr"
        },
        {
          "output_type": "stream",
          "text": [
            "Accuracy: 84.86 %\n",
            "Standard Deviation: 0.12 %\n"
          ],
          "name": "stdout"
        }
      ]
    },
    {
      "cell_type": "markdown",
      "metadata": {
        "id": "LnNfadk0x-N9"
      },
      "source": [
        "## **XGBoost** "
      ]
    },
    {
      "cell_type": "code",
      "metadata": {
        "colab": {
          "base_uri": "https://localhost:8080/"
        },
        "id": "z7D9ICj3l4fF",
        "outputId": "8196aa92-f80b-43b2-ccb2-ff0c46de0ef7"
      },
      "source": [
        "from xgboost import XGBClassifier\n",
        "xgb = XGBClassifier()\n",
        "xgb.fit(X_train,y_train)"
      ],
      "execution_count": null,
      "outputs": [
        {
          "output_type": "execute_result",
          "data": {
            "text/plain": [
              "XGBClassifier(base_score=0.5, booster='gbtree', colsample_bylevel=1,\n",
              "              colsample_bynode=1, colsample_bytree=1, gamma=0,\n",
              "              learning_rate=0.1, max_delta_step=0, max_depth=3,\n",
              "              min_child_weight=1, missing=None, n_estimators=100, n_jobs=1,\n",
              "              nthread=None, objective='binary:logistic', random_state=0,\n",
              "              reg_alpha=0, reg_lambda=1, scale_pos_weight=1, seed=None,\n",
              "              silent=None, subsample=1, verbosity=1)"
            ]
          },
          "metadata": {
            "tags": []
          },
          "execution_count": 56
        }
      ]
    },
    {
      "cell_type": "code",
      "metadata": {
        "colab": {
          "base_uri": "https://localhost:8080/"
        },
        "id": "a6CPvGXpLj1G",
        "outputId": "3b89a92e-7716-4e3c-b951-4c295fe5fb28"
      },
      "source": [
        "y_pred=xgb.predict(X_test)\n",
        "cm = confusion_matrix(y_test, y_pred)\n",
        "print(\"Confusion Matrix : \")\n",
        "print(cm)\n",
        "print()\n",
        "print(\" Accuracy Score: {}%\".format(round(accuracy_score(y_test,y_pred)*100,2)))"
      ],
      "execution_count": null,
      "outputs": [
        {
          "output_type": "stream",
          "text": [
            "Confusion Matrix : \n",
            "[[181361  57631]\n",
            " [     3 249433]]\n",
            "\n",
            " Accuracy Score: 88.2%\n"
          ],
          "name": "stdout"
        }
      ]
    },
    {
      "cell_type": "code",
      "metadata": {
        "id": "kA8sAOrvWGcW",
        "colab": {
          "base_uri": "https://localhost:8080/"
        },
        "outputId": "23f01021-c6d2-40fd-e034-0914e437d94c"
      },
      "source": [
        "y_pred=xgb.predict(X_train)\n",
        "confusion_matrix(y_train, y_pred)"
      ],
      "execution_count": null,
      "outputs": [
        {
          "output_type": "execute_result",
          "data": {
            "text/plain": [
              "array([[545567, 171786],\n",
              "       [     5, 747923]])"
            ]
          },
          "metadata": {
            "tags": []
          },
          "execution_count": 59
        }
      ]
    },
    {
      "cell_type": "code",
      "metadata": {
        "colab": {
          "background_save": true,
          "base_uri": "https://localhost:8080/"
        },
        "id": "BumKkpwyOEzM",
        "outputId": "fbb6297c-e2d6-4a2f-e53a-220c502c84d9"
      },
      "source": [
        "from sklearn.model_selection import cross_val_score\n",
        "accuracies = cross_val_score(estimator = classifier, X = X_train, y = y_train, cv = 10, n_jobs=-1)\n",
        "print(\"Accuracy: {:.2f} %\".format(accuracies.mean()*100))\n",
        "print(\"Standard Deviation: {:.2f} %\".format(accuracies.std()*100))"
      ],
      "execution_count": null,
      "outputs": [
        {
          "output_type": "stream",
          "text": [
            "/usr/local/lib/python3.7/dist-packages/joblib/externals/loky/process_executor.py:691: UserWarning: A worker stopped while some jobs were given to the executor. This can be caused by a too short worker timeout or by a memory leak.\n",
            "  \"timeout or by a memory leak.\", UserWarning\n"
          ],
          "name": "stderr"
        },
        {
          "output_type": "stream",
          "text": [
            "Accuracy: 84.86 %\n",
            "Standard Deviation: 0.12 %\n"
          ],
          "name": "stdout"
        }
      ]
    },
    {
      "cell_type": "markdown",
      "metadata": {
        "id": "sKqwltk2Nc6c"
      },
      "source": [
        "K- Fold Cross Validation"
      ]
    },
    {
      "cell_type": "markdown",
      "metadata": {
        "id": "QBMTQvLuMJJL"
      },
      "source": [
        "## **Catboost**"
      ]
    },
    {
      "cell_type": "code",
      "metadata": {
        "id": "S3_Q6osfGiNg"
      },
      "source": [
        "from catboost import CatBoostClassifier\n",
        "classifier = CatBoostClassifier()\n",
        "classifier.fit(X_train, y_train)"
      ],
      "execution_count": null,
      "outputs": []
    },
    {
      "cell_type": "code",
      "metadata": {
        "colab": {
          "base_uri": "https://localhost:8080/"
        },
        "id": "0kid1G_7PQvu",
        "outputId": "c48e1bda-cc2d-4174-fe95-7800071d5777"
      },
      "source": [
        "y_pred = classifier.predict(X_test)\n",
        "cm = confusion_matrix(y_test, y_pred)\n",
        "print(\"Confusion Matrix : \")\n",
        "print(cm)\n",
        "print()\n",
        "print(\" Accuracy Score: {:.2f}%\".format(accuracy_score(y_test,y_pred)*100))"
      ],
      "execution_count": null,
      "outputs": [
        {
          "output_type": "stream",
          "text": [
            "Confusion Matrix : \n",
            "[[181428  57564]\n",
            " [   145 249291]]\n",
            "\n",
            " Accuracy Score: 88.18%\n"
          ],
          "name": "stdout"
        }
      ]
    },
    {
      "cell_type": "code",
      "metadata": {
        "id": "WFiRLGS-wMUK"
      },
      "source": [
        ""
      ],
      "execution_count": null,
      "outputs": []
    },
    {
      "cell_type": "markdown",
      "metadata": {
        "id": "g4FDPKhYzirW"
      },
      "source": [
        "# Making Pickle File of the model with best Accuracy"
      ]
    },
    {
      "cell_type": "code",
      "metadata": {
        "id": "Le44hdxeiQw9"
      },
      "source": [
        "import pickle"
      ],
      "execution_count": null,
      "outputs": []
    },
    {
      "cell_type": "code",
      "metadata": {
        "id": "OFYi04vAY_os"
      },
      "source": [
        "pickle.dump(classifier, open('model.pkl','wb'))"
      ],
      "execution_count": null,
      "outputs": []
    }
  ]
}
